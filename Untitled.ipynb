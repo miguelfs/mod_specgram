{
 "cells": [
  {
   "cell_type": "code",
   "execution_count": 6,
   "metadata": {},
   "outputs": [],
   "source": [
    "from numpy import sqrt, cos\n",
    "import numpy as np\n",
    "import librosa\n",
    "import itertools"
   ]
  },
  {
   "cell_type": "code",
   "execution_count": 60,
   "metadata": {},
   "outputs": [],
   "source": [
    "def stft_basic(x, w, H=8, only_positive_frequencies=False):\n",
    "    \"\"\"Compute a basic version of the discrete short-time Fourier transform (STFT)\n",
    "\n",
    "    Notebook: C2/C2_STFT-Basic.ipynb\n",
    "\n",
    "    Args:\n",
    "        x: Signal to be transformed\n",
    "        w: Window function\n",
    "        H: Hopsize\n",
    "        only_positive_frequencies: Return only positive frequency part of spectrum (non-invertible)\n",
    "\n",
    "    Returns:\n",
    "        X: The discrete short-time Fourier transform\n",
    "    \"\"\"\n",
    "    N = len(w)\n",
    "    L = len(x)\n",
    "    M = np.floor((L - N) / H).astype(int) + 1\n",
    "    X = np.zeros((N, M), dtype='complex')\n",
    "    for m in range(M):\n",
    "        print(f'start = {m*H}, end = {m*H+N}')\n",
    "        x_win = x[m * H:m * H + N] * w\n",
    "        X_win = np.fft.fft(x_win)\n",
    "        X[:, m] = X_win\n",
    "        \n",
    "    if only_positive_frequencies:\n",
    "        K = 1 + N // 2\n",
    "        X = X[0:K, :]"
   ]
  },
  {
   "cell_type": "code",
   "execution_count": 61,
   "metadata": {},
   "outputs": [
    {
     "name": "stdout",
     "output_type": "stream",
     "text": [
      "start = 0, end = 4\n",
      "start = 1, end = 5\n",
      "start = 2, end = 6\n",
      "start = 3, end = 7\n",
      "start = 4, end = 8\n",
      "start = 5, end = 9\n",
      "start = 6, end = 10\n",
      "start = 7, end = 11\n",
      "start = 8, end = 12\n",
      "start = 9, end = 13\n",
      "start = 10, end = 14\n",
      "start = 11, end = 15\n",
      "start = 12, end = 16\n"
     ]
    }
   ],
   "source": [
    "stft_basic([0,1,1,0,0,1,1,0,0,1,1,0,0,1,1,0],np.ones(4),1, True)"
   ]
  },
  {
   "cell_type": "code",
   "execution_count": 93,
   "metadata": {},
   "outputs": [],
   "source": [
    "def rolling_window_jao(x, window: int):\n",
    "    shape = x.shape[:-1] + (x.shape[-1] - window + 1, window)\n",
    "    strides = x.strides + (x.strides[-1],)\n",
    "    return np.lib.stride_tricks.as_strided(x, shape=shape, strides=strides)"
   ]
  },
  {
   "cell_type": "code",
   "execution_count": 100,
   "metadata": {},
   "outputs": [],
   "source": [
    "def rolling_window_miguel(x, N: int, H: int):\n",
    "    L = len(x)\n",
    "    M = np.floor((L - N) / H).astype(int) + 1\n",
    "    return [ x[m * H:m * H + N] for m in range(M)]"
   ]
  },
  {
   "cell_type": "code",
   "execution_count": 107,
   "metadata": {},
   "outputs": [],
   "source": [
    "x=np.zeros(1000*1000*1000)\n",
    "import time"
   ]
  },
  {
   "cell_type": "code",
   "execution_count": 108,
   "metadata": {},
   "outputs": [
    {
     "name": "stdout",
     "output_type": "stream",
     "text": [
      "--- 12.819684028625488 seconds ---\n"
     ]
    }
   ],
   "source": [
    "tic = time.time()\n",
    "rolling_window_jao(np.array(x), 2)\n",
    "toc = time.time()\n",
    "print(\"--- %s seconds ---\" % (toc - tic))"
   ]
  },
  {
   "cell_type": "code",
   "execution_count": null,
   "metadata": {},
   "outputs": [],
   "source": [
    "tic = time.time()\n",
    "rolling_window_miguel(x,2,1)\n",
    "toc = time.time()\n",
    "print(\"--- %s seconds ---\" % (toc - tic))"
   ]
  },
  {
   "cell_type": "code",
   "execution_count": null,
   "metadata": {},
   "outputs": [],
   "source": [
    "N = len(w)\n",
    "L = len(x)\n",
    "M = np.floor((L - N) / H).astype(int) + 1\n",
    "M = np.floor((L - len(w)) / H).astype(int) + 1\n",
    "for m in range x:\n",
    "    x[m - window_len : ]"
   ]
  },
  {
   "cell_type": "code",
   "execution_count": 63,
   "metadata": {},
   "outputs": [
    {
     "ename": "NameError",
     "evalue": "name 'K' is not defined",
     "output_type": "error",
     "traceback": [
      "\u001b[0;31m---------------------------------------------------------------------------\u001b[0m",
      "\u001b[0;31mNameError\u001b[0m                                 Traceback (most recent call last)",
      "\u001b[0;32m<ipython-input-63-81d6aa368b6e>\u001b[0m in \u001b[0;36m<module>\u001b[0;34m\u001b[0m\n\u001b[1;32m      3\u001b[0m     \u001b[0mK\u001b[0m \u001b[0;34m=\u001b[0m \u001b[0mN\u001b[0m \u001b[0;34m//\u001b[0m \u001b[0;36m2\u001b[0m\u001b[0;34m\u001b[0m\u001b[0;34m\u001b[0m\u001b[0m\n\u001b[1;32m      4\u001b[0m     \u001b[0mH\u001b[0m \u001b[0;34m=\u001b[0m \u001b[0mw\u001b[0m \u001b[0;34m//\u001b[0m \u001b[0;36m2\u001b[0m\u001b[0;34m\u001b[0m\u001b[0;34m\u001b[0m\u001b[0m\n\u001b[0;32m----> 5\u001b[0;31m \u001b[0mN_0\u001b[0m \u001b[0;34m=\u001b[0m \u001b[0;34m(\u001b[0m\u001b[0mK\u001b[0m \u001b[0;34m+\u001b[0m \u001b[0;36m1\u001b[0m\u001b[0;34m)\u001b[0m\u001b[0;34m/\u001b[0m\u001b[0;36m2\u001b[0m\u001b[0;34m\u001b[0m\u001b[0;34m\u001b[0m\u001b[0m\n\u001b[0m\u001b[1;32m      6\u001b[0m \u001b[0mM\u001b[0m \u001b[0;34m=\u001b[0m \u001b[0mint\u001b[0m\u001b[0;34m(\u001b[0m\u001b[0msample_rate\u001b[0m \u001b[0;34m/\u001b[0m \u001b[0;36m2\u001b[0m\u001b[0;34m)\u001b[0m\u001b[0;34m\u001b[0m\u001b[0;34m\u001b[0m\u001b[0m\n\u001b[1;32m      7\u001b[0m \u001b[0mX_cos\u001b[0m \u001b[0;34m=\u001b[0m \u001b[0mnp\u001b[0m\u001b[0;34m.\u001b[0m\u001b[0mzeros\u001b[0m\u001b[0;34m(\u001b[0m\u001b[0;34m(\u001b[0m\u001b[0mM\u001b[0m\u001b[0;34m,\u001b[0m\u001b[0mN\u001b[0m\u001b[0;34m)\u001b[0m\u001b[0;34m)\u001b[0m\u001b[0;34m\u001b[0m\u001b[0;34m\u001b[0m\u001b[0m\n",
      "\u001b[0;31mNameError\u001b[0m: name 'K' is not defined"
     ]
    }
   ],
   "source": [
    "def mdct_basic(x, w, only_positive_frequencies=False):\n",
    "    N = len(w)\n",
    "    K = N // 2\n",
    "    H = w // 2\n",
    "    N_0 = (K + 1)/2\n",
    "M = int(sample_rate / 2)\n",
    "X_cos = np.zeros((M,N))\n",
    "X_sin = np.zeros((M,N))\n",
    "for m in range(M):\n",
    "    for k in range (K):\n",
    "         X_cos[m,k] = sqrt(2/N) * sum([n for n in range(N)])\n",
    "#              sum([x[n + 2*m*K * w[n] * cos(2*np.pi*(n+N_0)*k/N) ] for n in range(N)])"
   ]
  },
  {
   "cell_type": "code",
   "execution_count": null,
   "metadata": {},
   "outputs": [],
   "source": [
    "[print(n) for n in range(N)]"
   ]
  },
  {
   "cell_type": "code",
   "execution_count": null,
   "metadata": {},
   "outputs": [],
   "source": [
    "type(M)"
   ]
  },
  {
   "cell_type": "code",
   "execution_count": null,
   "metadata": {},
   "outputs": [],
   "source": [
    "X_cos = None"
   ]
  },
  {
   "cell_type": "code",
   "execution_count": null,
   "metadata": {},
   "outputs": [],
   "source": [
    "M"
   ]
  },
  {
   "cell_type": "code",
   "execution_count": null,
   "metadata": {},
   "outputs": [],
   "source": [
    "np.zeros((M,N), dtype=float)"
   ]
  },
  {
   "cell_type": "code",
   "execution_count": null,
   "metadata": {},
   "outputs": [],
   "source": [
    "x: [float] = [0, 1, 2, 3, 4, 5, 6, 7, 8, 9, 10, 11, 12]\n",
    "w: [float] = [1,1,1]\n",
    "N = len(x)\n",
    "\n",
    "K = 10\n",
    "X_cos = np.zeros((M,N))"
   ]
  },
  {
   "cell_type": "code",
   "execution_count": null,
   "metadata": {},
   "outputs": [],
   "source": [
    "for m in range(M):\n",
    "    for k in range (K):\n",
    "        X_cossine[m,k] = sqrt(2/N) * sum([x[n + 2*m*K * w[n] * cos(2*np.pi*(n+N_0)*k/N) ] for n in range(N)])"
   ]
  },
  {
   "cell_type": "code",
   "execution_count": null,
   "metadata": {},
   "outputs": [],
   "source": [
    "X_cos = X_sin = np.zeros((2, 2))"
   ]
  },
  {
   "cell_type": "code",
   "execution_count": null,
   "metadata": {},
   "outputs": [],
   "source": [
    "X_sin[0,0] += 1000"
   ]
  },
  {
   "cell_type": "code",
   "execution_count": null,
   "metadata": {},
   "outputs": [],
   "source": [
    "X_cos"
   ]
  },
  {
   "cell_type": "code",
   "execution_count": null,
   "metadata": {},
   "outputs": [],
   "source": [
    "X_cos[0,0]"
   ]
  },
  {
   "cell_type": "code",
   "execution_count": null,
   "metadata": {},
   "outputs": [],
   "source": [
    "np.pi"
   ]
  },
  {
   "cell_type": "code",
   "execution_count": null,
   "metadata": {},
   "outputs": [],
   "source": [
    "X_cos"
   ]
  },
  {
   "cell_type": "code",
   "execution_count": null,
   "metadata": {},
   "outputs": [],
   "source": [
    "for f, b in zip([0,1,, [0,1,2,3,4,5]):\n",
    "    print(f, b)"
   ]
  },
  {
   "cell_type": "code",
   "execution_count": null,
   "metadata": {},
   "outputs": [],
   "source": [
    "range(3)"
   ]
  },
  {
   "cell_type": "code",
   "execution_count": null,
   "metadata": {},
   "outputs": [],
   "source": [
    "for m in range(3):\n",
    "    for n in range (2):\n",
    "        print(m,n)"
   ]
  },
  {
   "cell_type": "code",
   "execution_count": null,
   "metadata": {},
   "outputs": [],
   "source": []
  }
 ],
 "metadata": {
  "kernelspec": {
   "display_name": "Python 3",
   "language": "python",
   "name": "python3"
  },
  "language_info": {
   "codemirror_mode": {
    "name": "ipython",
    "version": 3
   },
   "file_extension": ".py",
   "mimetype": "text/x-python",
   "name": "python",
   "nbconvert_exporter": "python",
   "pygments_lexer": "ipython3",
   "version": "3.7.7"
  }
 },
 "nbformat": 4,
 "nbformat_minor": 4
}
